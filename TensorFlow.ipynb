{
  "nbformat": 4,
  "nbformat_minor": 0,
  "metadata": {
    "colab": {
      "name": "TensorFlow",
      "version": "0.3.2",
      "provenance": [],
      "collapsed_sections": [],
      "include_colab_link": true
    },
    "kernelspec": {
      "name": "python3",
      "display_name": "Python 3"
    },
    "accelerator": "GPU"
  },
  "cells": [
    {
      "cell_type": "markdown",
      "metadata": {
        "id": "view-in-github",
        "colab_type": "text"
      },
      "source": [
        "<a href=\"https://colab.research.google.com/github/adonis-lau/TensorFlow/blob/master/TensorFlow.ipynb\" target=\"_parent\"><img src=\"https://colab.research.google.com/assets/colab-badge.svg\" alt=\"Open In Colab\"/></a>"
      ]
    },
    {
      "cell_type": "code",
      "metadata": {
        "id": "vLHUAyn7hAaU",
        "colab_type": "code",
        "colab": {}
      },
      "source": [
        "!free -h\n",
        "print(\"----------------------------\") \n",
        "!df -h\n",
        "print(\"----------------------------\") \n",
        "!cat /etc/lsb-release\n",
        "print(\"----------------------------\") \n",
        "!nvidia-smi -l"
      ],
      "execution_count": 0,
      "outputs": []
    }
  ]
}